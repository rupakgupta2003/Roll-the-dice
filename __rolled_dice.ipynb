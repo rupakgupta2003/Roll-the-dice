{
 "cells": [
  {
   "cell_type": "code",
   "execution_count": 23,
   "id": "8f8c2083",
   "metadata": {},
   "outputs": [
    {
     "name": "stdout",
     "output_type": "stream",
     "text": [
      "4\n",
      "choice is  4\n",
      "-----\n",
      "0   0\n",
      "     \n",
      "0   0\n",
      "-----\n"
     ]
    }
   ],
   "source": [
    "# rolled a dice\n",
    "import random\n",
    "x=random.randint(1,6)\n",
    "print(x)\n",
    "if x==1:\n",
    "    print(\"choice is \",x)\n",
    "    print('-----')\n",
    "    print('     ')\n",
    "    print('  0  ')\n",
    "    print('     ')\n",
    "    print('-----')\n",
    "elif x==2:\n",
    "    print(\"choice is \",x)\n",
    "    print('-----')\n",
    "    print('0    ')\n",
    "    print('     ')\n",
    "    print('    0')\n",
    "    print('-----')\n",
    "elif x==3:\n",
    "    print(\"choice is \",x)\n",
    "    print('-----')\n",
    "    print('0    ')\n",
    "    print('  0   ')\n",
    "    print('    0')\n",
    "    print('-----')\n",
    "elif x==4:\n",
    "    print(\"choice is \",4)\n",
    "    print('-----')\n",
    "    print('0   0')\n",
    "    print('     ')\n",
    "    print('0   0')\n",
    "    print('-----')\n",
    "elif x==5:\n",
    "    print(\"choice is \",x)\n",
    "    print('-----')\n",
    "    print('0   0')\n",
    "    print('  0  ')\n",
    "    print('0   0')\n",
    "    print('-----')\n",
    "elif x==6:\n",
    "    print(\"choice is \",x)\n",
    "    print('-----')\n",
    "    print('0 0 0')\n",
    "    print('0 0 0')\n",
    "    print('0 0 0')\n",
    "    print('-----')"
   ]
  },
  {
   "cell_type": "code",
   "execution_count": null,
   "id": "ec1980f4",
   "metadata": {},
   "outputs": [],
   "source": []
  }
 ],
 "metadata": {
  "kernelspec": {
   "display_name": "Python 3 (ipykernel)",
   "language": "python",
   "name": "python3"
  },
  "language_info": {
   "codemirror_mode": {
    "name": "ipython",
    "version": 3
   },
   "file_extension": ".py",
   "mimetype": "text/x-python",
   "name": "python",
   "nbconvert_exporter": "python",
   "pygments_lexer": "ipython3",
   "version": "3.11.1"
  }
 },
 "nbformat": 4,
 "nbformat_minor": 5
}
